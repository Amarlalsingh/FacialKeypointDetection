{
  "nbformat": 4,
  "nbformat_minor": 0,
  "metadata": {
    "colab": {
      "name": "FacialKeyDetection.ipynb",
      "provenance": [],
      "collapsed_sections": [],
      "include_colab_link": true
    },
    "kernelspec": {
      "name": "python3",
      "display_name": "Python 3"
    }
  },
  "cells": [
    {
      "cell_type": "markdown",
      "metadata": {
        "id": "view-in-github",
        "colab_type": "text"
      },
      "source": [
        "<a href=\"https://colab.research.google.com/github/Amarlalsingh/FacialKeypointDetection/blob/master/FacialKeyDetection.ipynb\" target=\"_parent\"><img src=\"https://colab.research.google.com/assets/colab-badge.svg\" alt=\"Open In Colab\"/></a>"
      ]
    },
    {
      "cell_type": "code",
      "metadata": {
        "id": "evF7TZvWZCFi",
        "colab_type": "code",
        "colab": {
          "base_uri": "https://localhost:8080/",
          "height": 120
        },
        "outputId": "80030828-fc02-43a9-80ef-b7aeb99d594e"
      },
      "source": [
        "import numpy as np \n",
        "import matplotlib.pyplot as plt \n",
        "\n",
        "from IPython.display import clear_output\n",
        "from time import sleep\n",
        "import os\n",
        "from google.colab import drive\n",
        "drive.mount('/content/drive')"
      ],
      "execution_count": null,
      "outputs": [
        {
          "output_type": "stream",
          "text": [
            "Go to this URL in a browser: https://accounts.google.com/o/oauth2/auth?client_id=947318989803-6bn6qk8qdgf4n4g3pfee6491hc0brc4i.apps.googleusercontent.com&redirect_uri=urn%3aietf%3awg%3aoauth%3a2.0%3aoob&response_type=code&scope=email%20https%3a%2f%2fwww.googleapis.com%2fauth%2fdocs.test%20https%3a%2f%2fwww.googleapis.com%2fauth%2fdrive%20https%3a%2f%2fwww.googleapis.com%2fauth%2fdrive.photos.readonly%20https%3a%2f%2fwww.googleapis.com%2fauth%2fpeopleapi.readonly\n",
            "\n",
            "Enter your authorization code:\n",
            "··········\n",
            "Mounted at /content/drive\n"
          ],
          "name": "stdout"
        }
      ]
    },
    {
      "cell_type": "code",
      "metadata": {
        "id": "54pshWp2oLAE",
        "colab_type": "code",
        "colab": {}
      },
      "source": [
        "import pandas as pd\n",
        "train_data = pd.read_csv(\"drive/My Drive/facial-keypoints-detection/training.csv\")\n",
        "test_data = pd.read_csv(\"drive/My Drive/facial-keypoints-detection/test.csv\")\n",
        "lookid_data = pd.read_csv(\"drive/My Drive/facial-keypoints-detection/IdLookupTable.csv\")"
      ],
      "execution_count": null,
      "outputs": []
    },
    {
      "cell_type": "code",
      "metadata": {
        "id": "qppPtFq2pwMO",
        "colab_type": "code",
        "colab": {
          "base_uri": "https://localhost:8080/",
          "height": 1000
        },
        "outputId": "9c18f40e-4867-4caa-daac-3403969d9145"
      },
      "source": [
        "train_data.head().T"
      ],
      "execution_count": null,
      "outputs": [
        {
          "output_type": "execute_result",
          "data": {
            "text/html": [
              "<div>\n",
              "<style scoped>\n",
              "    .dataframe tbody tr th:only-of-type {\n",
              "        vertical-align: middle;\n",
              "    }\n",
              "\n",
              "    .dataframe tbody tr th {\n",
              "        vertical-align: top;\n",
              "    }\n",
              "\n",
              "    .dataframe thead th {\n",
              "        text-align: right;\n",
              "    }\n",
              "</style>\n",
              "<table border=\"1\" class=\"dataframe\">\n",
              "  <thead>\n",
              "    <tr style=\"text-align: right;\">\n",
              "      <th></th>\n",
              "      <th>0</th>\n",
              "      <th>1</th>\n",
              "      <th>2</th>\n",
              "      <th>3</th>\n",
              "      <th>4</th>\n",
              "    </tr>\n",
              "  </thead>\n",
              "  <tbody>\n",
              "    <tr>\n",
              "      <th>left_eye_center_x</th>\n",
              "      <td>66.0336</td>\n",
              "      <td>64.3329</td>\n",
              "      <td>65.0571</td>\n",
              "      <td>65.2257</td>\n",
              "      <td>66.7253</td>\n",
              "    </tr>\n",
              "    <tr>\n",
              "      <th>left_eye_center_y</th>\n",
              "      <td>39.0023</td>\n",
              "      <td>34.9701</td>\n",
              "      <td>34.9096</td>\n",
              "      <td>37.2618</td>\n",
              "      <td>39.6213</td>\n",
              "    </tr>\n",
              "    <tr>\n",
              "      <th>right_eye_center_x</th>\n",
              "      <td>30.227</td>\n",
              "      <td>29.9493</td>\n",
              "      <td>30.9038</td>\n",
              "      <td>32.0231</td>\n",
              "      <td>32.2448</td>\n",
              "    </tr>\n",
              "    <tr>\n",
              "      <th>right_eye_center_y</th>\n",
              "      <td>36.4217</td>\n",
              "      <td>33.4487</td>\n",
              "      <td>34.9096</td>\n",
              "      <td>37.2618</td>\n",
              "      <td>38.042</td>\n",
              "    </tr>\n",
              "    <tr>\n",
              "      <th>left_eye_inner_corner_x</th>\n",
              "      <td>59.5821</td>\n",
              "      <td>58.8562</td>\n",
              "      <td>59.412</td>\n",
              "      <td>60.0033</td>\n",
              "      <td>58.5659</td>\n",
              "    </tr>\n",
              "    <tr>\n",
              "      <th>left_eye_inner_corner_y</th>\n",
              "      <td>39.6474</td>\n",
              "      <td>35.2743</td>\n",
              "      <td>36.321</td>\n",
              "      <td>39.1272</td>\n",
              "      <td>39.6213</td>\n",
              "    </tr>\n",
              "    <tr>\n",
              "      <th>left_eye_outer_corner_x</th>\n",
              "      <td>73.1303</td>\n",
              "      <td>70.7227</td>\n",
              "      <td>70.9844</td>\n",
              "      <td>72.3147</td>\n",
              "      <td>72.5159</td>\n",
              "    </tr>\n",
              "    <tr>\n",
              "      <th>left_eye_outer_corner_y</th>\n",
              "      <td>39.97</td>\n",
              "      <td>36.1872</td>\n",
              "      <td>36.321</td>\n",
              "      <td>38.381</td>\n",
              "      <td>39.8845</td>\n",
              "    </tr>\n",
              "    <tr>\n",
              "      <th>right_eye_inner_corner_x</th>\n",
              "      <td>36.3566</td>\n",
              "      <td>36.0347</td>\n",
              "      <td>37.6781</td>\n",
              "      <td>37.6186</td>\n",
              "      <td>36.9824</td>\n",
              "    </tr>\n",
              "    <tr>\n",
              "      <th>right_eye_inner_corner_y</th>\n",
              "      <td>37.3894</td>\n",
              "      <td>34.3615</td>\n",
              "      <td>36.321</td>\n",
              "      <td>38.7541</td>\n",
              "      <td>39.0949</td>\n",
              "    </tr>\n",
              "    <tr>\n",
              "      <th>right_eye_outer_corner_x</th>\n",
              "      <td>23.4529</td>\n",
              "      <td>24.4725</td>\n",
              "      <td>24.9764</td>\n",
              "      <td>25.3073</td>\n",
              "      <td>22.5061</td>\n",
              "    </tr>\n",
              "    <tr>\n",
              "      <th>right_eye_outer_corner_y</th>\n",
              "      <td>37.3894</td>\n",
              "      <td>33.1444</td>\n",
              "      <td>36.6032</td>\n",
              "      <td>38.0079</td>\n",
              "      <td>38.3052</td>\n",
              "    </tr>\n",
              "    <tr>\n",
              "      <th>left_eyebrow_inner_end_x</th>\n",
              "      <td>56.9533</td>\n",
              "      <td>53.9874</td>\n",
              "      <td>55.7425</td>\n",
              "      <td>56.4338</td>\n",
              "      <td>57.2496</td>\n",
              "    </tr>\n",
              "    <tr>\n",
              "      <th>left_eyebrow_inner_end_y</th>\n",
              "      <td>29.0336</td>\n",
              "      <td>28.2759</td>\n",
              "      <td>27.5709</td>\n",
              "      <td>30.9299</td>\n",
              "      <td>30.6722</td>\n",
              "    </tr>\n",
              "    <tr>\n",
              "      <th>left_eyebrow_outer_end_x</th>\n",
              "      <td>80.2271</td>\n",
              "      <td>78.6342</td>\n",
              "      <td>78.8874</td>\n",
              "      <td>77.9103</td>\n",
              "      <td>77.7629</td>\n",
              "    </tr>\n",
              "    <tr>\n",
              "      <th>left_eyebrow_outer_end_y</th>\n",
              "      <td>32.2281</td>\n",
              "      <td>30.4059</td>\n",
              "      <td>32.6516</td>\n",
              "      <td>31.6657</td>\n",
              "      <td>31.7372</td>\n",
              "    </tr>\n",
              "    <tr>\n",
              "      <th>right_eyebrow_inner_end_x</th>\n",
              "      <td>40.2276</td>\n",
              "      <td>42.7289</td>\n",
              "      <td>42.1939</td>\n",
              "      <td>41.6715</td>\n",
              "      <td>38.0354</td>\n",
              "    </tr>\n",
              "    <tr>\n",
              "      <th>right_eyebrow_inner_end_y</th>\n",
              "      <td>29.0023</td>\n",
              "      <td>26.146</td>\n",
              "      <td>28.1355</td>\n",
              "      <td>31.05</td>\n",
              "      <td>30.9354</td>\n",
              "    </tr>\n",
              "    <tr>\n",
              "      <th>right_eyebrow_outer_end_x</th>\n",
              "      <td>16.3564</td>\n",
              "      <td>16.8654</td>\n",
              "      <td>16.7912</td>\n",
              "      <td>20.458</td>\n",
              "      <td>15.9259</td>\n",
              "    </tr>\n",
              "    <tr>\n",
              "      <th>right_eyebrow_outer_end_y</th>\n",
              "      <td>29.6475</td>\n",
              "      <td>27.0589</td>\n",
              "      <td>32.0871</td>\n",
              "      <td>29.9093</td>\n",
              "      <td>30.6722</td>\n",
              "    </tr>\n",
              "    <tr>\n",
              "      <th>nose_tip_x</th>\n",
              "      <td>44.4206</td>\n",
              "      <td>48.2063</td>\n",
              "      <td>47.5573</td>\n",
              "      <td>51.8851</td>\n",
              "      <td>43.2995</td>\n",
              "    </tr>\n",
              "    <tr>\n",
              "      <th>nose_tip_y</th>\n",
              "      <td>57.0668</td>\n",
              "      <td>55.6609</td>\n",
              "      <td>53.5389</td>\n",
              "      <td>54.1665</td>\n",
              "      <td>64.8895</td>\n",
              "    </tr>\n",
              "    <tr>\n",
              "      <th>mouth_left_corner_x</th>\n",
              "      <td>61.1953</td>\n",
              "      <td>56.4214</td>\n",
              "      <td>60.8229</td>\n",
              "      <td>65.5989</td>\n",
              "      <td>60.6714</td>\n",
              "    </tr>\n",
              "    <tr>\n",
              "      <th>mouth_left_corner_y</th>\n",
              "      <td>79.9702</td>\n",
              "      <td>76.352</td>\n",
              "      <td>73.0143</td>\n",
              "      <td>72.7037</td>\n",
              "      <td>77.5232</td>\n",
              "    </tr>\n",
              "    <tr>\n",
              "      <th>mouth_right_corner_x</th>\n",
              "      <td>28.6145</td>\n",
              "      <td>35.1224</td>\n",
              "      <td>33.7263</td>\n",
              "      <td>37.2455</td>\n",
              "      <td>31.1918</td>\n",
              "    </tr>\n",
              "    <tr>\n",
              "      <th>mouth_right_corner_y</th>\n",
              "      <td>77.389</td>\n",
              "      <td>76.0477</td>\n",
              "      <td>72.732</td>\n",
              "      <td>74.1955</td>\n",
              "      <td>76.9973</td>\n",
              "    </tr>\n",
              "    <tr>\n",
              "      <th>mouth_center_top_lip_x</th>\n",
              "      <td>43.3126</td>\n",
              "      <td>46.6846</td>\n",
              "      <td>47.2749</td>\n",
              "      <td>50.3032</td>\n",
              "      <td>44.9627</td>\n",
              "    </tr>\n",
              "    <tr>\n",
              "      <th>mouth_center_top_lip_y</th>\n",
              "      <td>72.9355</td>\n",
              "      <td>70.2666</td>\n",
              "      <td>70.1918</td>\n",
              "      <td>70.0917</td>\n",
              "      <td>73.7074</td>\n",
              "    </tr>\n",
              "    <tr>\n",
              "      <th>mouth_center_bottom_lip_x</th>\n",
              "      <td>43.1307</td>\n",
              "      <td>45.4679</td>\n",
              "      <td>47.2749</td>\n",
              "      <td>51.5612</td>\n",
              "      <td>44.2271</td>\n",
              "    </tr>\n",
              "    <tr>\n",
              "      <th>mouth_center_bottom_lip_y</th>\n",
              "      <td>84.4858</td>\n",
              "      <td>85.4802</td>\n",
              "      <td>78.6594</td>\n",
              "      <td>78.2684</td>\n",
              "      <td>86.8712</td>\n",
              "    </tr>\n",
              "    <tr>\n",
              "      <th>Image</th>\n",
              "      <td>238 236 237 238 240 240 239 241 241 243 240 23...</td>\n",
              "      <td>219 215 204 196 204 211 212 200 180 168 178 19...</td>\n",
              "      <td>144 142 159 180 188 188 184 180 167 132 84 59 ...</td>\n",
              "      <td>193 192 193 194 194 194 193 192 168 111 50 12 ...</td>\n",
              "      <td>147 148 160 196 215 214 216 217 219 220 206 18...</td>\n",
              "    </tr>\n",
              "  </tbody>\n",
              "</table>\n",
              "</div>"
            ],
            "text/plain": [
              "                                                                           0  ...                                                  4\n",
              "left_eye_center_x                                                    66.0336  ...                                            66.7253\n",
              "left_eye_center_y                                                    39.0023  ...                                            39.6213\n",
              "right_eye_center_x                                                    30.227  ...                                            32.2448\n",
              "right_eye_center_y                                                   36.4217  ...                                             38.042\n",
              "left_eye_inner_corner_x                                              59.5821  ...                                            58.5659\n",
              "left_eye_inner_corner_y                                              39.6474  ...                                            39.6213\n",
              "left_eye_outer_corner_x                                              73.1303  ...                                            72.5159\n",
              "left_eye_outer_corner_y                                                39.97  ...                                            39.8845\n",
              "right_eye_inner_corner_x                                             36.3566  ...                                            36.9824\n",
              "right_eye_inner_corner_y                                             37.3894  ...                                            39.0949\n",
              "right_eye_outer_corner_x                                             23.4529  ...                                            22.5061\n",
              "right_eye_outer_corner_y                                             37.3894  ...                                            38.3052\n",
              "left_eyebrow_inner_end_x                                             56.9533  ...                                            57.2496\n",
              "left_eyebrow_inner_end_y                                             29.0336  ...                                            30.6722\n",
              "left_eyebrow_outer_end_x                                             80.2271  ...                                            77.7629\n",
              "left_eyebrow_outer_end_y                                             32.2281  ...                                            31.7372\n",
              "right_eyebrow_inner_end_x                                            40.2276  ...                                            38.0354\n",
              "right_eyebrow_inner_end_y                                            29.0023  ...                                            30.9354\n",
              "right_eyebrow_outer_end_x                                            16.3564  ...                                            15.9259\n",
              "right_eyebrow_outer_end_y                                            29.6475  ...                                            30.6722\n",
              "nose_tip_x                                                           44.4206  ...                                            43.2995\n",
              "nose_tip_y                                                           57.0668  ...                                            64.8895\n",
              "mouth_left_corner_x                                                  61.1953  ...                                            60.6714\n",
              "mouth_left_corner_y                                                  79.9702  ...                                            77.5232\n",
              "mouth_right_corner_x                                                 28.6145  ...                                            31.1918\n",
              "mouth_right_corner_y                                                  77.389  ...                                            76.9973\n",
              "mouth_center_top_lip_x                                               43.3126  ...                                            44.9627\n",
              "mouth_center_top_lip_y                                               72.9355  ...                                            73.7074\n",
              "mouth_center_bottom_lip_x                                            43.1307  ...                                            44.2271\n",
              "mouth_center_bottom_lip_y                                            84.4858  ...                                            86.8712\n",
              "Image                      238 236 237 238 240 240 239 241 241 243 240 23...  ...  147 148 160 196 215 214 216 217 219 220 206 18...\n",
              "\n",
              "[31 rows x 5 columns]"
            ]
          },
          "metadata": {
            "tags": []
          },
          "execution_count": 3
        }
      ]
    },
    {
      "cell_type": "code",
      "metadata": {
        "id": "LPjH8xcIqA7e",
        "colab_type": "code",
        "colab": {
          "base_uri": "https://localhost:8080/",
          "height": 67
        },
        "outputId": "76242c7e-9c51-4879-b032-7e7f93496e29"
      },
      "source": [
        "train_data.isnull().any().value_counts()"
      ],
      "execution_count": null,
      "outputs": [
        {
          "output_type": "execute_result",
          "data": {
            "text/plain": [
              "True     28\n",
              "False     3\n",
              "dtype: int64"
            ]
          },
          "metadata": {
            "tags": []
          },
          "execution_count": 4
        }
      ]
    },
    {
      "cell_type": "code",
      "metadata": {
        "id": "5pfacYaEs1Or",
        "colab_type": "code",
        "colab": {
          "base_uri": "https://localhost:8080/",
          "height": 50
        },
        "outputId": "50350332-da84-4499-ae56-8417f688e407"
      },
      "source": [
        "train_data.fillna(method = 'ffill',inplace = True)\n",
        "train_data.isnull().any().value_counts()"
      ],
      "execution_count": null,
      "outputs": [
        {
          "output_type": "execute_result",
          "data": {
            "text/plain": [
              "False    31\n",
              "dtype: int64"
            ]
          },
          "metadata": {
            "tags": []
          },
          "execution_count": 5
        }
      ]
    },
    {
      "cell_type": "code",
      "metadata": {
        "id": "jYlR8t9quNH8",
        "colab_type": "code",
        "colab": {}
      },
      "source": [
        "imag = []\n",
        "for i in range(0,7049):\n",
        "  img = train_data['Image'][i].split(' ')\n",
        "  img = ['0' if x==''else x for x in img]\n",
        "  imag.append(img)"
      ],
      "execution_count": null,
      "outputs": []
    },
    {
      "cell_type": "code",
      "metadata": {
        "id": "IwFXoiK9u0WH",
        "colab_type": "code",
        "colab": {}
      },
      "source": [
        "image_list = np.array(imag,dtype = 'float')\n",
        "X_train = image_list.reshape(-1,96,96,1)"
      ],
      "execution_count": null,
      "outputs": []
    },
    {
      "cell_type": "code",
      "metadata": {
        "id": "-0ct6TTQvHy4",
        "colab_type": "code",
        "colab": {
          "base_uri": "https://localhost:8080/",
          "height": 285
        },
        "outputId": "a918f582-20bf-4641-df5b-ba9019fb8ab9"
      },
      "source": [
        "plt.imshow(X_train[1].reshape(96,96),cmap = 'gray')"
      ],
      "execution_count": null,
      "outputs": [
        {
          "output_type": "execute_result",
          "data": {
            "text/plain": [
              "<matplotlib.image.AxesImage at 0x7f283755b438>"
            ]
          },
          "metadata": {
            "tags": []
          },
          "execution_count": 8
        },
        {
          "output_type": "display_data",
          "data": {
            "image/png": "[encoded data removed]",
            "text/plain": [
              "<Figure size 432x288 with 1 Axes>"
            ]
          },
          "metadata": {
            "tags": [],
            "needs_background": "light"
          }
        }
      ]
    },
    {
      "cell_type": "code",
      "metadata": {
        "id": "ks_tXSQqvX3m",
        "colab_type": "code",
        "colab": {}
      },
      "source": [
        "training = train_data.drop('Image',axis = 1)"
      ],
      "execution_count": null,
      "outputs": []
    },
    {
      "cell_type": "code",
      "metadata": {
        "id": "Ej1PjY6mvkrn",
        "colab_type": "code",
        "colab": {}
      },
      "source": [
        "y_train = []\n",
        "for i in range(0,7049):\n",
        "  y = training.iloc[i,:]\n",
        "  y_train.append(y)\n",
        "y_train = np.array(y_train,dtype = 'float')"
      ],
      "execution_count": null,
      "outputs": []
    },
    {
      "cell_type": "code",
      "metadata": {
        "id": "clAvBmQTwFFm",
        "colab_type": "code",
        "colab": {
          "base_uri": "https://localhost:8080/",
          "height": 33
        },
        "outputId": "949efe1f-b2d4-4a02-f273-f2a8eec3f1c1"
      },
      "source": [
        "from keras.layers import Conv2D,Dropout,Dense,Flatten\n",
        "from keras.models import Sequential\n",
        "\n",
        "model = Sequential([Flatten(input_shape=(96,96)),\n",
        "                         Dense(128, activation=\"relu\"),\n",
        "                         Dropout(0.1),\n",
        "                         Dense(64, activation=\"relu\"),\n",
        "                         Dense(30)\n",
        "                         ])"
      ],
      "execution_count": null,
      "outputs": [
        {
          "output_type": "stream",
          "text": [
            "Using TensorFlow backend.\n"
          ],
          "name": "stderr"
        }
      ]
    },
    {
      "cell_type": "code",
      "metadata": {
        "id": "G2ALI-DI4Mod",
        "colab_type": "code",
        "colab": {}
      },
      "source": [
        "from keras.layers.advanced_activations import LeakyReLU\n",
        "from keras.models import Sequential, Model\n",
        "from keras.layers import Activation, Convolution2D, MaxPooling2D, BatchNormalization, Flatten, Dense, Dropout, Conv2D,MaxPool2D, ZeroPadding2D"
      ],
      "execution_count": null,
      "outputs": []
    },
    {
      "cell_type": "code",
      "metadata": {
        "id": "LJQFCcNN4NyZ",
        "colab_type": "code",
        "colab": {
          "base_uri": "https://localhost:8080/",
          "height": 1000
        },
        "outputId": "0830346c-d38d-404c-8b4c-dfa04a9d1f4e"
      },
      "source": [
        "model = Sequential()\n",
        "\n",
        "model.add(Convolution2D(32, (3,3), padding='same', use_bias=False, input_shape=(96,96,1)))\n",
        "model.add(LeakyReLU(alpha = 0.1))\n",
        "model.add(BatchNormalization())\n",
        "\n",
        "model.add(Convolution2D(32, (3,3), padding='same', use_bias=False))\n",
        "model.add(LeakyReLU(alpha = 0.1))\n",
        "model.add(BatchNormalization())\n",
        "model.add(MaxPool2D(pool_size=(2, 2)))\n",
        "\n",
        "model.add(Convolution2D(64, (3,3), padding='same', use_bias=False))\n",
        "model.add(LeakyReLU(alpha = 0.1))\n",
        "model.add(BatchNormalization())\n",
        "\n",
        "model.add(Convolution2D(64, (3,3), padding='same', use_bias=False))\n",
        "model.add(LeakyReLU(alpha = 0.1))\n",
        "model.add(BatchNormalization())\n",
        "model.add(MaxPool2D(pool_size=(2, 2)))\n",
        "\n",
        "model.add(Convolution2D(96, (3,3), padding='same', use_bias=False))\n",
        "model.add(LeakyReLU(alpha = 0.1))\n",
        "model.add(BatchNormalization())\n",
        "\n",
        "model.add(Convolution2D(96, (3,3), padding='same', use_bias=False))\n",
        "model.add(LeakyReLU(alpha = 0.1))\n",
        "model.add(BatchNormalization())\n",
        "model.add(MaxPool2D(pool_size=(2, 2)))\n",
        "\n",
        "model.add(Convolution2D(128, (3,3),padding='same', use_bias=False))\n",
        "# model.add(BatchNormalization())\n",
        "model.add(LeakyReLU(alpha = 0.1))\n",
        "model.add(BatchNormalization())\n",
        "\n",
        "model.add(Convolution2D(128, (3,3),padding='same', use_bias=False))\n",
        "model.add(LeakyReLU(alpha = 0.1))\n",
        "model.add(BatchNormalization())\n",
        "model.add(MaxPool2D(pool_size=(2, 2)))\n",
        "\n",
        "model.add(Convolution2D(256, (3,3),padding='same',use_bias=False))\n",
        "model.add(LeakyReLU(alpha = 0.1))\n",
        "model.add(BatchNormalization())\n",
        "\n",
        "model.add(Convolution2D(256, (3,3),padding='same',use_bias=False))\n",
        "model.add(LeakyReLU(alpha = 0.1))\n",
        "model.add(BatchNormalization())\n",
        "model.add(MaxPool2D(pool_size=(2, 2)))\n",
        "\n",
        "model.add(Convolution2D(512, (3,3), padding='same', use_bias=False))\n",
        "model.add(LeakyReLU(alpha = 0.1))\n",
        "model.add(BatchNormalization())\n",
        "\n",
        "model.add(Convolution2D(512, (3,3), padding='same', use_bias=False))\n",
        "model.add(LeakyReLU(alpha = 0.1))\n",
        "model.add(BatchNormalization())\n",
        "\n",
        "\n",
        "model.add(Flatten())\n",
        "model.add(Dense(512,activation='relu'))\n",
        "model.add(Dropout(0.1))\n",
        "model.add(Dense(30))\n",
        "model.summary()"
      ],
      "execution_count": null,
      "outputs": [
        {
          "output_type": "stream",
          "text": [
            "Model: \"sequential_2\"\n",
            "_________________________________________________________________\n",
            "Layer (type)                 Output Shape              Param #   \n",
            "=================================================================\n",
            "conv2d_1 (Conv2D)            (None, 96, 96, 32)        288       \n",
            "_________________________________________________________________\n",
            "leaky_re_lu_1 (LeakyReLU)    (None, 96, 96, 32)        0         \n",
            "_________________________________________________________________\n",
            "batch_normalization_1 (Batch (None, 96, 96, 32)        128       \n",
            "_________________________________________________________________\n",
            "conv2d_2 (Conv2D)            (None, 96, 96, 32)        9216      \n",
            "_________________________________________________________________\n",
            "leaky_re_lu_2 (LeakyReLU)    (None, 96, 96, 32)        0         \n",
            "_________________________________________________________________\n",
            "batch_normalization_2 (Batch (None, 96, 96, 32)        128       \n",
            "_________________________________________________________________\n",
            "max_pooling2d_1 (MaxPooling2 (None, 48, 48, 32)        0         \n",
            "_________________________________________________________________\n",
            "conv2d_3 (Conv2D)            (None, 48, 48, 64)        18432     \n",
            "_________________________________________________________________\n",
            "leaky_re_lu_3 (LeakyReLU)    (None, 48, 48, 64)        0         \n",
            "_________________________________________________________________\n",
            "batch_normalization_3 (Batch (None, 48, 48, 64)        256       \n",
            "_________________________________________________________________\n",
            "conv2d_4 (Conv2D)            (None, 48, 48, 64)        36864     \n",
            "_________________________________________________________________\n",
            "leaky_re_lu_4 (LeakyReLU)    (None, 48, 48, 64)        0         \n",
            "_________________________________________________________________\n",
            "batch_normalization_4 (Batch (None, 48, 48, 64)        256       \n",
            "_________________________________________________________________\n",
            "max_pooling2d_2 (MaxPooling2 (None, 24, 24, 64)        0         \n",
            "_________________________________________________________________\n",
            "conv2d_5 (Conv2D)            (None, 24, 24, 96)        55296     \n",
            "_________________________________________________________________\n",
            "leaky_re_lu_5 (LeakyReLU)    (None, 24, 24, 96)        0         \n",
            "_________________________________________________________________\n",
            "batch_normalization_5 (Batch (None, 24, 24, 96)        384       \n",
            "_________________________________________________________________\n",
            "conv2d_6 (Conv2D)            (None, 24, 24, 96)        82944     \n",
            "_________________________________________________________________\n",
            "leaky_re_lu_6 (LeakyReLU)    (None, 24, 24, 96)        0         \n",
            "_________________________________________________________________\n",
            "batch_normalization_6 (Batch (None, 24, 24, 96)        384       \n",
            "_________________________________________________________________\n",
            "max_pooling2d_3 (MaxPooling2 (None, 12, 12, 96)        0         \n",
            "_________________________________________________________________\n",
            "conv2d_7 (Conv2D)            (None, 12, 12, 128)       110592    \n",
            "_________________________________________________________________\n",
            "leaky_re_lu_7 (LeakyReLU)    (None, 12, 12, 128)       0         \n",
            "_________________________________________________________________\n",
            "batch_normalization_7 (Batch (None, 12, 12, 128)       512       \n",
            "_________________________________________________________________\n",
            "conv2d_8 (Conv2D)            (None, 12, 12, 128)       147456    \n",
            "_________________________________________________________________\n",
            "leaky_re_lu_8 (LeakyReLU)    (None, 12, 12, 128)       0         \n",
            "_________________________________________________________________\n",
            "batch_normalization_8 (Batch (None, 12, 12, 128)       512       \n",
            "_________________________________________________________________\n",
            "max_pooling2d_4 (MaxPooling2 (None, 6, 6, 128)         0         \n",
            "_________________________________________________________________\n",
            "conv2d_9 (Conv2D)            (None, 6, 6, 256)         294912    \n",
            "_________________________________________________________________\n",
            "leaky_re_lu_9 (LeakyReLU)    (None, 6, 6, 256)         0         \n",
            "_________________________________________________________________\n",
            "batch_normalization_9 (Batch (None, 6, 6, 256)         1024      \n",
            "_________________________________________________________________\n",
            "conv2d_10 (Conv2D)           (None, 6, 6, 256)         589824    \n",
            "_________________________________________________________________\n",
            "leaky_re_lu_10 (LeakyReLU)   (None, 6, 6, 256)         0         \n",
            "_________________________________________________________________\n",
            "batch_normalization_10 (Batc (None, 6, 6, 256)         1024      \n",
            "_________________________________________________________________\n",
            "max_pooling2d_5 (MaxPooling2 (None, 3, 3, 256)         0         \n",
            "_________________________________________________________________\n",
            "conv2d_11 (Conv2D)           (None, 3, 3, 512)         1179648   \n",
            "_________________________________________________________________\n",
            "leaky_re_lu_11 (LeakyReLU)   (None, 3, 3, 512)         0         \n",
            "_________________________________________________________________\n",
            "batch_normalization_11 (Batc (None, 3, 3, 512)         2048      \n",
            "_________________________________________________________________\n",
            "conv2d_12 (Conv2D)           (None, 3, 3, 512)         2359296   \n",
            "_________________________________________________________________\n",
            "leaky_re_lu_12 (LeakyReLU)   (None, 3, 3, 512)         0         \n",
            "_________________________________________________________________\n",
            "batch_normalization_12 (Batc (None, 3, 3, 512)         2048      \n",
            "_________________________________________________________________\n",
            "flatten_2 (Flatten)          (None, 4608)              0         \n",
            "_________________________________________________________________\n",
            "dense_4 (Dense)              (None, 512)               2359808   \n",
            "_________________________________________________________________\n",
            "dropout_2 (Dropout)          (None, 512)               0         \n",
            "_________________________________________________________________\n",
            "dense_5 (Dense)              (None, 30)                15390     \n",
            "=================================================================\n",
            "Total params: 7,268,670\n",
            "Trainable params: 7,264,318\n",
            "Non-trainable params: 4,352\n",
            "_________________________________________________________________\n"
          ],
          "name": "stdout"
        }
      ]
    },
    {
      "cell_type": "code",
      "metadata": {
        "id": "_Pl96fu04lb_",
        "colab_type": "code",
        "colab": {}
      },
      "source": [
        "model.compile(optimizer='adam', \n",
        "              loss='mean_squared_error',\n",
        "              metrics=['mae'])"
      ],
      "execution_count": null,
      "outputs": []
    },
    {
      "cell_type": "code",
      "metadata": {
        "id": "HLs3fYbWm1bV",
        "colab_type": "code",
        "colab": {}
      },
      "source": [
        "from keras.callbacks import ModelCheckpoint, ReduceLROnPlateau\n",
        "model_checkpoint = ModelCheckpoint(\"/content/drive/My Drive/facial-keypoints-detection/model313.hdf5\", monitor='mae', save_best_only=True,save_weights_only=True, verbose=1)\n",
        "learning_rate_reduction = ReduceLROnPlateau(monitor='mae', \n",
        "                                            patience=3, \n",
        "                                            verbose=1, \n",
        "                                            factor=0.5, \n",
        "                                            min_lr=0.000000000001)"
      ],
      "execution_count": null,
      "outputs": []
    },
    {
      "cell_type": "code",
      "metadata": {
        "id": "Tm-wz3uK4rl7",
        "colab_type": "code",
        "colab": {
          "base_uri": "https://localhost:8080/",
          "height": 538
        },
        "outputId": "87d21076-d00a-4795-b0a9-69d85519d1c4"
      },
      "source": [
        "model.fit(X_train,y_train,epochs = 7,validation_split = 0.2, callbacks=[model_checkpoint,learning_rate_reduction])"
      ],
      "execution_count": null,
      "outputs": [
        {
          "output_type": "stream",
          "text": [
            "Train on 5639 samples, validate on 1410 samples\n",
            "Epoch 1/7\n",
            "5639/5639 [==============================] - 554s 98ms/step - loss: 16.8957 - mae: 3.1071 - val_loss: 4.9235 - val_mae: 1.4258\n",
            "\n",
            "Epoch 00001: mae improved from inf to 3.10713, saving model to /content/drive/My Drive/facial-keypoints-detection/model313.hdf5\n",
            "Epoch 2/7\n",
            "5639/5639 [==============================] - 553s 98ms/step - loss: 14.1476 - mae: 2.8350 - val_loss: 6.6565 - val_mae: 1.9398\n",
            "\n",
            "Epoch 00002: mae improved from 3.10713 to 2.83498, saving model to /content/drive/My Drive/facial-keypoints-detection/model313.hdf5\n",
            "Epoch 3/7\n",
            "5639/5639 [==============================] - 555s 98ms/step - loss: 11.8190 - mae: 2.5706 - val_loss: 4.9623 - val_mae: 1.6084\n",
            "\n",
            "Epoch 00003: mae improved from 2.83498 to 2.57062, saving model to /content/drive/My Drive/facial-keypoints-detection/model313.hdf5\n",
            "Epoch 4/7\n",
            "5639/5639 [==============================] - 554s 98ms/step - loss: 11.8807 - mae: 2.5833 - val_loss: 6.4088 - val_mae: 1.9412\n",
            "\n",
            "Epoch 00004: mae did not improve from 2.57062\n",
            "Epoch 5/7\n",
            "5639/5639 [==============================] - 554s 98ms/step - loss: 10.0913 - mae: 2.3644 - val_loss: 3.4502 - val_mae: 1.1227\n",
            "\n",
            "Epoch 00005: mae improved from 2.57062 to 2.36436, saving model to /content/drive/My Drive/facial-keypoints-detection/model313.hdf5\n",
            "Epoch 6/7\n",
            "5639/5639 [==============================] - 552s 98ms/step - loss: 9.6705 - mae: 2.3088 - val_loss: 10.4897 - val_mae: 2.6613\n",
            "\n",
            "Epoch 00006: mae improved from 2.36436 to 2.30880, saving model to /content/drive/My Drive/facial-keypoints-detection/model313.hdf5\n",
            "Epoch 7/7\n",
            "5639/5639 [==============================] - 559s 99ms/step - loss: 9.5410 - mae: 2.2909 - val_loss: 2.8919 - val_mae: 1.0383\n",
            "\n",
            "Epoch 00007: mae improved from 2.30880 to 2.29086, saving model to /content/drive/My Drive/facial-keypoints-detection/model313.hdf5\n"
          ],
          "name": "stdout"
        },
        {
          "output_type": "execute_result",
          "data": {
            "text/plain": [
              "<keras.callbacks.callbacks.History at 0x7f27ee930f98>"
            ]
          },
          "metadata": {
            "tags": []
          },
          "execution_count": 18
        }
      ]
    },
    {
      "cell_type": "code",
      "metadata": {
        "id": "P5alTkiDkGjo",
        "colab_type": "code",
        "colab": {}
      },
      "source": [
        "model.save_weights(\"drive/My Drive/facial-keypoints-detection/model.h5\")"
      ],
      "execution_count": null,
      "outputs": []
    },
    {
      "cell_type": "code",
      "metadata": {
        "id": "xlaWpfTn4wq0",
        "colab_type": "code",
        "colab": {}
      },
      "source": [
        "#preparing test data\n",
        "timag = []\n",
        "for i in range(0,1783):# 1783 testing images\n",
        "    timg = test_data['Image'][i].split(' ')\n",
        "    timg = ['0' if x == '' else x for x in timg]\n",
        "    timag.append(timg)\n"
      ],
      "execution_count": null,
      "outputs": []
    },
    {
      "cell_type": "code",
      "metadata": {
        "id": "zR0uJqy8KZY0",
        "colab_type": "code",
        "colab": {}
      },
      "source": [
        "#reshaping and converting the data \n",
        "timage_list = np.array(timag,dtype = 'float')\n",
        "X_test = timage_list.reshape(-1,96,96,1) \n"
      ],
      "execution_count": null,
      "outputs": []
    },
    {
      "cell_type": "code",
      "metadata": {
        "id": "ro2DITc3mgGG",
        "colab_type": "code",
        "colab": {
          "base_uri": "https://localhost:8080/",
          "height": 268
        },
        "outputId": "59107d50-5544-4a78-87d1-1e12e7f0fe10"
      },
      "source": [
        "# to see the first image of test dataset\n",
        "plt.imshow(X_test[0].reshape(96,96),cmap = 'gray')\n",
        "plt.show()\n"
      ],
      "execution_count": null,
      "outputs": [
        {
          "output_type": "display_data",
          "data": {
            "image/png": "[encoded data removed]",
            "text/plain": [
              "<Figure size 432x288 with 1 Axes>"
            ]
          },
          "metadata": {
            "tags": [],
            "needs_background": "light"
          }
        }
      ]
    },
    {
      "cell_type": "code",
      "metadata": {
        "id": "kiiRUygGmgK9",
        "colab_type": "code",
        "colab": {}
      },
      "source": [
        "#predicting our result\n",
        "pred = model.predict(X_test)"
      ],
      "execution_count": null,
      "outputs": []
    },
    {
      "cell_type": "code",
      "metadata": {
        "id": "pRRn5SaEmgD1",
        "colab_type": "code",
        "colab": {}
      },
      "source": [
        "#Now the last step is the create our submission file keeping in the mind required format. There should be two columns :- RowId and Location Location column values should be filled according the lookup table provided ( IdLookupTable.csv)"
      ],
      "execution_count": null,
      "outputs": []
    },
    {
      "cell_type": "code",
      "metadata": {
        "id": "Fgox-05VmgAt",
        "colab_type": "code",
        "colab": {
          "base_uri": "https://localhost:8080/",
          "height": 251
        },
        "outputId": "fc7d0303-b203-4bce-8571-759e6567964c"
      },
      "source": [
        "lookid_list = list(lookid_data['FeatureName'])\n",
        "imageID = list(lookid_data['ImageId']-1)\n",
        "pre_list = list(pred)\n",
        "rowid = lookid_data['RowId']\n",
        "rowid=list(rowid)\n",
        "feature = []\n",
        "for f in list(lookid_data['FeatureName']):\n",
        "    feature.append(lookid_list.index(f))\n",
        "preded = []\n",
        "for x,y in zip(imageID,feature):\n",
        "    preded.append(pre_list[x][y])\n",
        "rowid = pd.Series(rowid,name = 'RowId')\n",
        "loc = pd.Series(preded,name = 'Location')\n",
        "submission = pd.concat([rowid,loc],axis = 1)\n",
        "print(submission)\n",
        "submission.to_csv('drive/My Drive/facial-keypoints-detection/res.csv',index = False)"
      ],
      "execution_count": null,
      "outputs": [
        {
          "output_type": "stream",
          "text": [
            "       RowId   Location\n",
            "0          1  69.958542\n",
            "1          2  37.329636\n",
            "2          3  28.325769\n",
            "3          4  36.182400\n",
            "4          5  62.830959\n",
            "...      ...        ...\n",
            "27119  27120  40.510612\n",
            "27120  27121  47.168617\n",
            "27121  27122  68.246796\n",
            "27122  27123  48.360065\n",
            "27123  27124  81.713707\n",
            "\n",
            "[27124 rows x 2 columns]\n"
          ],
          "name": "stdout"
        }
      ]
    }
  ]
}